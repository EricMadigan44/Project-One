{
 "cells": [
  {
   "cell_type": "markdown",
   "metadata": {},
   "source": [
    "<h1> Are more individuals graduating college with a degree in STEM (Science, Technology, Engineering and Math)?</h1>\n",
    "\n",
    "<p> The data showed that there is a generational shift towards STEM degrees among women, but not among men.  The percentage of women with a degree in Engineering increases from 30% to 43% for the oldest and youngest demographics, respectively.  Over time the percentage of 25-39 year olds with a degree in Engineering has been flat for males and grown from 42% in 2013 to 43% in 2016.  While the growth hasn't been dramatic over the past four years, it does indicate a positive trend."
   ]
  }
 ],
 "metadata": {
  "kernelspec": {
   "display_name": "Python 3",
   "language": "python",
   "name": "python3"
  },
  "language_info": {
   "codemirror_mode": {
    "name": "ipython",
    "version": 3
   },
   "file_extension": ".py",
   "mimetype": "text/x-python",
   "name": "python",
   "nbconvert_exporter": "python",
   "pygments_lexer": "ipython3",
   "version": "3.6.3"
  }
 },
 "nbformat": 4,
 "nbformat_minor": 2
}
