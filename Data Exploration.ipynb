{
 "cells": [
  {
   "cell_type": "markdown",
   "metadata": {},
   "source": [
    "We explored the American Community Survey (ACS), which is collected by the US Census Bureau. This is an annual survey that covers a broad range of topics about social, economic, demographic, and housing characteristics of the U.S. population.  The ACS 5-year survey contains data collected over a period of time (2012-2016), and relative to their other surveys has the largest sample size, is the most reliable, but is the least current.\n",
    "\n",
    "The data provided needed minimal cleanup.  Our group spent much more time on the data exploration part of the process.  It took a while to figure out what kinds of data existing in the survey, the differences between the surveys and what sections had usuable data.  For example, at first we wanted to look at marriage rates by profession but found that those variables had no data. \n",
    "\n"
   ]
  }
 ],
 "metadata": {
  "kernelspec": {
   "display_name": "Python 3",
   "language": "python",
   "name": "python3"
  },
  "language_info": {
   "codemirror_mode": {
    "name": "ipython",
    "version": 3
   },
   "file_extension": ".py",
   "mimetype": "text/x-python",
   "name": "python",
   "nbconvert_exporter": "python",
   "pygments_lexer": "ipython3",
   "version": "3.6.3"
  }
 },
 "nbformat": 4,
 "nbformat_minor": 2
}
