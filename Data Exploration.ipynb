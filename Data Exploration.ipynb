{
 "cells": [
  {
   "cell_type": "markdown",
   "metadata": {},
   "source": [
    "We explored the American Community Survey (ACS), which is collected by the US Census Bureau. This is an annual survey that covers a broad range of topics about social, economic, demographic, and housing characteristics of the U.S. population.  The ACS 5-year survey contains data collected over a period of time (2012-2016), and relative to their other surveys has the largest sample size, is the most reliable, but is the least current.\n",
    "\n",
    "The data provided needed minimal cleanup.  Our group spent much more time on the data exploration part of the process. The ACS dataset contains 65,000 variables spanning characteristics such as income, education, profession, and modes of transportation. It took a while to figure out what kinds of data existing in the survey, the differences between the surveys and what sections had usuable data.  For example, we initally wanted to compare the earnings of various obscure professions such as fence erectors, hazardous materials workers, sewer pipe cleaners, and paperhangers. When we performed  API calls, however, we received an error message. After further exploration, we discovered that these variables, though listed in the documentation, did not contain data. \n",
    "\n",
    "When collecting and cleaning data, we encountered two major challenges. First, we needed to perform API calls on dozens of variables and assemble the results into separate dictionaries for each demographic subgroup. Spencer designed a function that allowed us to do this in an efficient way. Otherwise, we would have needed to use separate code for each of the age and gender subgroups. Once we had our dictionaries, we needed to convert them to a data frame. The challenge was that we needed to add each dictionary as a row, not a column. After some trial and error, Spencer discovered that we could solve this challenge using the \"append\" command, normally used to add items to lists."
   ]
  }
 ],
 "metadata": {
  "kernelspec": {
   "display_name": "Python 3",
   "language": "python",
   "name": "python3"
  },
  "language_info": {
   "codemirror_mode": {
    "name": "ipython",
    "version": 3
   },
   "file_extension": ".py",
   "mimetype": "text/x-python",
   "name": "python",
   "nbconvert_exporter": "python",
   "pygments_lexer": "ipython3",
   "version": "3.6.4"
  }
 },
 "nbformat": 4,
 "nbformat_minor": 2
}
